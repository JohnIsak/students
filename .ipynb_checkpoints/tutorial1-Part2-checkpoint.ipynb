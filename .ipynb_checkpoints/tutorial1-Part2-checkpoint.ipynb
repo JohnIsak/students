{
 "cells": [
  {
   "cell_type": "markdown",
   "metadata": {},
   "source": [
    "PAC Learning Axis-aligned Rectangles\n",
    "Credits to Yi-Chen (Howard) Lo \n",
    "\n",
    "1) Import matplotlib to plot the sample and the rectangle."
   ]
  },
  {
   "cell_type": "code",
   "execution_count": 1,
   "metadata": {},
   "outputs": [
    {
     "name": "stdout",
     "output_type": "stream",
     "text": [
      "Requirement already satisfied: matplotlib in c:\\users\\johnf\\onedrive\\desktop\\skole\\students\\venv\\lib\\site-packages (3.3.1)\n",
      "Requirement already satisfied: pyparsing!=2.0.4,!=2.1.2,!=2.1.6,>=2.0.3 in c:\\users\\johnf\\onedrive\\desktop\\skole\\students\\venv\\lib\\site-packages (from matplotlib) (2.4.7)\n",
      "Requirement already satisfied: certifi>=2020.06.20 in c:\\users\\johnf\\onedrive\\desktop\\skole\\students\\venv\\lib\\site-packages (from matplotlib) (2020.6.20)\n",
      "Requirement already satisfied: numpy>=1.15 in c:\\users\\johnf\\onedrive\\desktop\\skole\\students\\venv\\lib\\site-packages (from matplotlib) (1.19.1)\n",
      "Requirement already satisfied: pillow>=6.2.0 in c:\\users\\johnf\\onedrive\\desktop\\skole\\students\\venv\\lib\\site-packages (from matplotlib) (7.2.0)\n",
      "Requirement already satisfied: python-dateutil>=2.1 in c:\\users\\johnf\\onedrive\\desktop\\skole\\students\\venv\\lib\\site-packages (from matplotlib) (2.8.1)\n",
      "Requirement already satisfied: cycler>=0.10 in c:\\users\\johnf\\onedrive\\desktop\\skole\\students\\venv\\lib\\site-packages (from matplotlib) (0.10.0)\n",
      "Requirement already satisfied: kiwisolver>=1.0.1 in c:\\users\\johnf\\onedrive\\desktop\\skole\\students\\venv\\lib\\site-packages (from matplotlib) (1.2.0)\n",
      "Requirement already satisfied: six>=1.5 in c:\\users\\johnf\\onedrive\\desktop\\skole\\students\\venv\\lib\\site-packages (from python-dateutil>=2.1->matplotlib) (1.15.0)\n"
     ]
    }
   ],
   "source": [
    "!pip install matplotlib\n",
    "import time\n",
    "import math\n",
    "import random\n",
    "import numpy as np\n",
    "import matplotlib.pyplot as plt\n",
    "%matplotlib inline"
   ]
  },
  {
   "cell_type": "markdown",
   "metadata": {},
   "source": [
    "2) Create the rectangle class. Function in_rectangle receives points and return predictions ('True' if the point is inside the rectangle and 'False' otherwise)."
   ]
  },
  {
   "cell_type": "code",
   "execution_count": 2,
   "metadata": {},
   "outputs": [],
   "source": [
    "class Rectangle:\n",
    "    def __init__(self, min_x, min_y, max_x, max_y):\n",
    "        self.min_x = min_x\n",
    "        self.max_x = max_x\n",
    "        self.min_y = min_y\n",
    "        self.max_y = max_y\n",
    "      \n",
    "\n",
    "    def in_rectangle(self, X):\n",
    "        return np.array((X[:,0] >= self.min_x) & (X[:,0] <= self.max_x) & (X[:,1] >= self.min_y) & (X[:,1] <= self.max_y))\n",
    "    \n",
    "     "
   ]
  },
  {
   "cell_type": "markdown",
   "metadata": {},
   "source": [
    "3) Generate the target rectangle and estimate the probability of selecting an example in it."
   ]
  },
  {
   "cell_type": "code",
   "execution_count": 3,
   "metadata": {},
   "outputs": [],
   "source": [
    "def estimate_prob_of_target_rectangle(X, R_target):\n",
    "    # Classify points\n",
    "    labels = R_target.in_rectangle(X)\n",
    "\n",
    "    # Estimate probability of unknown target concept with empirical probability\n",
    "    \n",
    "    p_hat = np.mean(labels)\n",
    "\n",
    "    return p_hat\n",
    "\n",
    "def generate_target_rectangle(X, eps):\n",
    "    \"\"\" Generate unknown target concept that p_hat(c) >= 3*eps \"\"\"\n",
    "\n",
    "    print('[*] Generating concept from sample size: {}'.format(len(X)))\n",
    "\n",
    "    while True:\n",
    "        # Generate corner points of rectangle\n",
    "        min_x = np.min(X[:,0])\n",
    "        min_y = np.min(X[:,1])\n",
    "        mid_x = np.median(X[:,0])\n",
    "        mid_y = np.median(X[:,1])\n",
    "        max_x = np.max(X[:,0])\n",
    "        max_y = np.max(X[:,1])\n",
    "\n",
    "        rect_min_x = random.randrange(int(min_x), int(mid_x))\n",
    "        rect_min_y = random.randrange(int(min_y), int(mid_y))\n",
    "        rect_max_x = random.randrange(int(mid_x), int(max_x))\n",
    "        rect_max_y = random.randrange(int(mid_y), int(max_y))\n",
    "\n",
    "        # Generate unknown target concept\n",
    "        R_target = Rectangle(min_x=rect_min_x,\n",
    "                             min_y=rect_min_y,\n",
    "                             max_x=rect_max_x,\n",
    "                             max_y=rect_max_y)\n",
    "\n",
    "        # Estimate probability of unknown target concept with empirical probability\n",
    "        p_hat = estimate_prob_of_target_rectangle(X, R_target)\n",
    "\n",
    "        if p_hat >= 3*eps:\n",
    "            print('[*] Concept successfully generated.')\n",
    "            return R_target\n",
    "        else:\n",
    "            print('[!] Re-generate concept...')\n",
    "\n",
    "\n"
   ]
  },
  {
   "cell_type": "markdown",
   "metadata": {},
   "source": [
    "4) Fix and print the parameters."
   ]
  },
  {
   "cell_type": "code",
   "execution_count": 4,
   "metadata": {
    "scrolled": true
   },
   "outputs": [
    {
     "name": "stdout",
     "output_type": "stream",
     "text": [
      "[*] Input arguments:\n",
      "    - delta: 0.01\n",
      "    - epsilon: 0.1\n",
      "    - mean: [0.0, 0.0]\n",
      "    - corvariance matrix: [[1, 0.5], [0.5, 1]]\n"
     ]
    }
   ],
   "source": [
    "\"\"\" Main \"\"\"\n",
    "\n",
    "# Arguments\n",
    "delta = 0.01\n",
    "eps = 0.1\n",
    "mean_x = 0.0\n",
    "mean_y = 0.0\n",
    "mean = [mean_x, mean_y]\n",
    "cov = [[1, 0.5], [0.5, 1]]\n",
    "\n",
    "# Print arguments information\n",
    "print('[*] Input arguments:')\n",
    "print('    - delta: {}'.format(delta))\n",
    "print('    - epsilon: {}'.format(eps))\n",
    "print('    - mean: {}'.format(mean))\n",
    "print('    - corvariance matrix: {}'.format(cov))"
   ]
  },
  {
   "cell_type": "markdown",
   "metadata": {},
   "source": [
    "5) Generate the target and plot data points."
   ]
  },
  {
   "cell_type": "code",
   "execution_count": 7,
   "metadata": {
    "scrolled": true
   },
   "outputs": [
    {
     "name": "stdout",
     "output_type": "stream",
     "text": [
      "[*] Generating concept from sample size: 400\n",
      "[*] Concept successfully generated.\n"
     ]
    },
    {
     "data": {
      "image/png": "[encoded data removed]",
      "text/plain": [
       "<Figure size 432x288 with 1 Axes>"
      ]
     },
     "metadata": {},
     "output_type": "display_data"
    }
   ],
   "source": [
    "# Generate unknown target concept (axis-aligned rectangle) from sample size N\n",
    "# Handle unknown target concept\n",
    "N = int(math.ceil((40/eps)))\n",
    "\n",
    "\n",
    "X_N = np.random.multivariate_normal(mean=mean, cov=cov, size=N)\n",
    "\n",
    "\n",
    "# Generate unknown target concept (axis-aligned rectangle) from sample size N\n",
    "R_target = generate_target_rectangle(X_N, eps)\n",
    "\n",
    "label_true = R_target.in_rectangle(X_N)\n",
    "\n",
    "plt.plot([R_target.min_x, R_target.max_x], [R_target.min_y, R_target.max_y] , '+', c='b')\n",
    "plt.plot(X_N[label_true == 0, 0], X_N[label_true == 0, 1], '.', c='g')\n",
    "plt.plot(X_N[label_true == 1, 0], X_N[label_true == 1, 1], '.', c='b')\n",
    "plt.axis('equal')\n",
    "plt.show()"
   ]
  }
 ],
 "metadata": {
  "anaconda-cloud": {},
  "kernelspec": {
   "display_name": "Python 3",
   "language": "python",
   "name": "python3"
  },
  "language_info": {
   "codemirror_mode": {
    "name": "ipython",
    "version": 3
   },
   "file_extension": ".py",
   "mimetype": "text/x-python",
   "name": "python",
   "nbconvert_exporter": "python",
   "pygments_lexer": "ipython3",
   "version": "3.8.5"
  }
 },
 "nbformat": 4,
 "nbformat_minor": 1
}
