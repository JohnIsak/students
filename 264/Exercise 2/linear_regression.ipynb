{
 "cells": [
  {
   "cell_type": "code",
   "execution_count": null,
   "metadata": {},
   "outputs": [],
   "source": [
    "import ipywidgets as widgets\n",
    "from ipywidgets import interact, fixed\n",
    "\n",
    "from mpl_toolkits.mplot3d import Axes3D\n",
    "\n",
    "import numpy as np\n",
    "import matplotlib.pyplot as plt\n",
    "from sklearn.linear_model import LinearRegression\n",
    "from sklearn.metrics import mean_squared_error"
   ]
  },
  {
   "cell_type": "markdown",
   "metadata": {},
   "source": [
    "## Univariate linear regression\n",
    "\n",
    "We will start with an example about univariate linear regression"
   ]
  },
  {
   "cell_type": "code",
   "execution_count": null,
   "metadata": {},
   "outputs": [],
   "source": [
    "def generate_data(n, w_true, b_true, sigma_true):\n",
    "    x = np.random.rand(n)\n",
    "    y = w_true*x + b_true + np.random.randn(n)*sigma_true\n",
    "    return x, y"
   ]
  },
  {
   "cell_type": "code",
   "execution_count": null,
   "metadata": {},
   "outputs": [],
   "source": [
    "# Generate non-linear data\n",
    "np.random.seed(1)\n",
    "x = np.arange(-1, 1, 0.1).reshape(-1, 1)\n",
    "y = 0.5*x + 2*x**2"
   ]
  },
  {
   "cell_type": "code",
   "execution_count": null,
   "metadata": {},
   "outputs": [],
   "source": [
    "# Plotting linear regression lines\n",
    "def plot_lr(x=None, y=None, w=1, b=0, show_errors=False, show_mae=False, show_mse=False, show_boxes=False, ax=None):\n",
    "    x_min = np.min(x)\n",
    "    x_max = np.max(x)\n",
    "    y_min = np.min(y)\n",
    "    y_max = np.max(y)\n",
    "    \n",
    "    n = x.shape[0]\n",
    "    \n",
    "    ax = ax or plt.gca()\n",
    "    ax.scatter(x, y)\n",
    "    \n",
    "    epsilon = 0.3\n",
    "    ax.set_xlim(x_min-epsilon, x_max+epsilon)\n",
    "    ax.set_ylim(y_min-epsilon, y_max+epsilon)\n",
    "    \n",
    "    x_plot = np.asarray([x_min,x_max])\n",
    "    y_plot = w*x_plot + b\n",
    "    \n",
    "    ax.plot(x_plot, y_plot, c='black')\n",
    "    \n",
    "    abs_err = 0\n",
    "    sq_err = 0\n",
    "    \n",
    "    if show_boxes:\n",
    "        show_errors = False\n",
    "    \n",
    "    for i in range(len(x)):\n",
    "        xi = x[i]\n",
    "        yi = y[i]\n",
    "        pred_y = w*xi + b\n",
    "        if show_errors:\n",
    "            ax.plot([xi, xi], [yi, pred_y], c='r')\n",
    "        if show_boxes:\n",
    "            diff = yi - pred_y\n",
    "            ax.plot([xi, xi], [yi, pred_y], c='r')\n",
    "            ax.plot([xi-diff, xi-diff], [yi, pred_y], c='r')\n",
    "            ax.plot([xi-diff, xi], [yi, yi], c='r')\n",
    "            ax.plot([xi-diff, xi], [pred_y, pred_y], c='r')\n",
    "        abs_err += np.abs(yi - pred_y)\n",
    "        sq_err +=  (yi - pred_y)**2\n",
    "    if show_mae:\n",
    "        print('Mean absolute error: %.3f' % (abs_err/n))\n",
    "    if show_mse:\n",
    "        print('Mean squared error: %.3f' % (sq_err/n))\n",
    "    plt.show()"
   ]
  },
  {
   "cell_type": "code",
   "execution_count": null,
   "metadata": {},
   "outputs": [],
   "source": [
    "# Generate data\n",
    "np.random.seed(1)\n",
    "\n",
    "# These are the parameters that guide data generating\n",
    "w_true = 0.6 # Slope of the data-generating line\n",
    "b_true = 0.2 # Intercept of the data generating line\n",
    "sigma_true = np.sqrt(0.02) # Standard deviation of the noise (which is square root of the variance)\n",
    "n_samples = 5 # Sample size\n",
    "\n",
    "x, y = generate_data(n_samples, w_true, b_true, sigma_true)"
   ]
  },
  {
   "cell_type": "markdown",
   "metadata": {},
   "source": [
    "Below you can change values of parameters $w$ (slope of the regression line) and $b$ (intercept of the regression line) and see how the values affect mean absolute and mean squared errors.\n",
    "\n",
    "You can also change the parameters for the data-generating in the function above and try with different data sets. "
   ]
  },
  {
   "cell_type": "code",
   "execution_count": null,
   "metadata": {},
   "outputs": [],
   "source": [
    "%matplotlib inline\n",
    "\n",
    "from ipywidgets import interact, fixed\n",
    "\n",
    "ww = widgets.FloatSlider(min=-5, max=5)\n",
    "bb = widgets.FloatSlider(min=-1, max=1)\n",
    "show_errors = widgets.Checkbox(description='Show error bars')\n",
    "show_boxes = widgets.Checkbox(description='Show error boxes')\n",
    "show_mae = widgets.Checkbox(description='Show mean absolute error')\n",
    "show_mse = widgets.Checkbox(description='Show mean squared error')\n",
    "\n",
    "interact(plot_lr, x=fixed(x), y=fixed(y), w=ww, b=bb, show_errors=show_errors, show_mae=show_mae, show_mse=show_mse, show_boxes=show_boxes, ax=fixed(None));"
   ]
  },
  {
   "cell_type": "markdown",
   "metadata": {},
   "source": [
    "Next, we will find the optimal values for $w$ and $b$ by minimizing mean squared error"
   ]
  },
  {
   "cell_type": "code",
   "execution_count": null,
   "metadata": {},
   "outputs": [],
   "source": [
    "numerator = 0\n",
    "denominator = 0\n",
    "\n",
    "x_bar = np.mean(x)\n",
    "y_bar = np.mean(y)\n",
    "\n",
    "for i in range(len(y)):\n",
    "    numerator += (x[i] - x_bar)*(y[i] - y_bar)\n",
    "    denominator += (x[i] - x_bar)**2\n",
    "\n",
    "w_hat = numerator/denominator\n",
    "b_hat = y_bar - w_hat*x_bar\n",
    "\n",
    "print('w=%f' % w_hat)\n",
    "print('b=%f' % b_hat)"
   ]
  },
  {
   "cell_type": "code",
   "execution_count": null,
   "metadata": {},
   "outputs": [],
   "source": [
    "plt.scatter(x, y)\n",
    "\n",
    "x_plot = np.asarray([np.min(x), np.max(x)])\n",
    "y_plot = w_hat*x_plot + b_hat\n",
    "\n",
    "plt.plot(x_plot, y_plot, c='black')\n",
    "plt.show()"
   ]
  },
  {
   "cell_type": "code",
   "execution_count": null,
   "metadata": {},
   "outputs": [],
   "source": [
    "pred = w_hat*x + b_hat\n",
    "mse = mean_squared_error(pred, y)\n",
    "\n",
    "print('MSE: %.3f' % mse)"
   ]
  },
  {
   "cell_type": "code",
   "execution_count": null,
   "metadata": {},
   "outputs": [],
   "source": []
  }
 ],
 "metadata": {
  "kernelspec": {
   "display_name": "Python 3",
   "language": "python",
   "name": "python3"
  },
  "language_info": {
   "codemirror_mode": {
    "name": "ipython",
    "version": 3
   },
   "file_extension": ".py",
   "mimetype": "text/x-python",
   "name": "python",
   "nbconvert_exporter": "python",
   "pygments_lexer": "ipython3",
   "version": "3.6.8"
  }
 },
 "nbformat": 4,
 "nbformat_minor": 2
}
