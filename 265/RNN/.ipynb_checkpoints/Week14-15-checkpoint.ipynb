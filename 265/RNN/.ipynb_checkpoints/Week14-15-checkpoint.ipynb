{
 "cells": [
  {
   "cell_type": "markdown",
   "metadata": {
    "pycharm": {
     "name": "#%% md\n"
    }
   },
   "source": [
    "### LSTM Assignement John Isak Villanger\n",
    "For this assignement I used the meditations by Marcus Aurelius as data.\n",
    "Here is some of the generated wisdom:\n",
    "![Alt text](https://imagizer.imageshack.com/img922/5897/nYX4lW.jpg?raw=true \"Title\")\n",
    "\n",
    "![Alt text](https://imagizer.imageshack.com/img923/888/I5yxZo.jpg?raw=true \"Title\")\n",
    "\n",
    "![Alt text](https://imagizer.imageshack.com/img922/6212/ehyEsS.jpg?raw=true \"Title\")\n",
    "\n",
    "\n"
   ]
  },
  {
   "cell_type": "code",
   "execution_count": 319,
   "metadata": {
    "collapsed": true
   },
   "outputs": [
    {
     "name": "stdout",
     "output_type": "stream",
     "text": [
      "total chars:  29\n",
      "[' ', ',', '.', 'a', 'b', 'c', 'd', 'e', 'f', 'g', 'h', 'i', 'j', 'k', 'l', 'm', 'n', 'o', 'p', 'q', 'r', 's', 't', 'u', 'v', 'w', 'x', 'y', 'z']\n"
     ]
    }
   ],
   "source": [
    "import re\n",
    "import numpy as np\n",
    "import torch\n",
    "import torch.nn as nn\n",
    "import torch.functional as F\n",
    "import matplotlib.pyplot as plt\n",
    "import copy\n",
    "device = torch.device(\"cuda\") if torch.cuda.is_available() else torch.device(\"cpu\")\n",
    "\n",
    "with open('MarcusAureliusUnedited.txt', 'r') as file:\n",
    "    text = file.read().lower()\n",
    "\n",
    "text = re.sub(\"\\d\\.\",\"\", text) # Replace the leading before each chapter\n",
    "text = re.sub(\"[\\n\\t\\r]\",\" \", text) # Replace newlines\n",
    "text = re.sub(\"[^a-z,. ]\",\"\", text) # Remove everything that's not a normal char ,. or space\n",
    "text = re.sub(\"  *\",\" \", text) # Replace instances of two or more spaces with one\n",
    "\n",
    "#Code taken from: https://towardsdatascience.com/generating-text-using-a-recurrent-neural-network-1c3bfee27a5e\n",
    "chars = sorted(list(set(text))) # Getting all unique chars\n",
    "print('total chars: ', len(chars))\n",
    "print(chars)\n",
    "char_indices = dict((c, i) for i, c in enumerate(chars))\n",
    "indices_char = dict((i, c) for i, c in enumerate(chars))\n",
    "\n",
    "\n",
    "maxlen = 40\n",
    "step = 3\n",
    "sentences = []\n",
    "next_chars = []\n",
    "for i in range(0, len(text) - maxlen, step):\n",
    "    sentences.append(text[i: i + maxlen])\n",
    "    next_chars.append(text[i + maxlen])\n",
    "\n",
    "\n",
    "# One Hot encoding of data\n",
    "x = torch.zeros((len(sentences), maxlen, len(chars)), dtype=torch.float32)\n",
    "y = torch.zeros((len(sentences)), dtype=torch.long)\n",
    "for i, sentence in enumerate(sentences):\n",
    "    for t, char in enumerate(sentence):\n",
    "        x[i, t, char_indices[char]] = 1\n",
    "    y[i] = char_indices[next_chars[i]]\n",
    "\n",
    "\n",
    "torch.save(x,\"x.pt\")\n",
    "torch.save(y,\"y.pt\")\n",
    "#x = torch.load(\"x.pt\")\n",
    "#y = torch.load(\"y.pt\")"
   ]
  },
  {
   "cell_type": "code",
   "execution_count": 320,
   "metadata": {
    "pycharm": {
     "name": "#%%\n"
    }
   },
   "outputs": [],
   "source": [
    "class DataSet(torch.utils.data.Dataset):\n",
    "  def __init__(self, X, Y):\n",
    "    self.X = X\n",
    "    self.Y = Y\n",
    "    if len(self.X) != len(self.Y):\n",
    "      raise Exception(\"The length of X does not match the length of Y\")\n",
    "\n",
    "  def __len__(self):\n",
    "    return len(self.X)\n",
    "\n",
    "  def __getitem__(self, index):\n",
    "    # note that this isn't randomly selecting. It's a simple get a single item that represents an x and y\n",
    "    _x = self.X[index]\n",
    "    _y = self.Y[index]\n",
    "\n",
    "    return _x, _y"
   ]
  },
  {
   "cell_type": "code",
   "execution_count": 321,
   "metadata": {
    "pycharm": {
     "name": "#%%\n"
    }
   },
   "outputs": [],
   "source": [
    "data = DataSet(x, y)\n",
    "\n",
    "train, val = torch.utils.data.random_split(data, [73000, 1164], generator=torch.Generator().manual_seed(42))\n",
    "train = torch.utils.data.DataLoader(train, 256, shuffle=True)\n",
    "val = torch.utils.data.DataLoader(val, 256, shuffle=False)"
   ]
  },
  {
   "cell_type": "code",
   "execution_count": 322,
   "metadata": {
    "pycharm": {
     "name": "#%%\n"
    }
   },
   "outputs": [],
   "source": [
    "class LSTMPredictor(nn.Module):\n",
    "    def __init__(self, n_hidden, n_layers):\n",
    "        super(LSTMPredictor, self).__init__()\n",
    "        self.n_hidden = n_hidden\n",
    "        self.n_layers = n_layers\n",
    "        self.lstm = nn.LSTM(len(chars), n_hidden, num_layers=n_layers, batch_first=True)\n",
    "        self.linear = nn.Linear(n_hidden, len(chars))\n",
    "        self.softmax = nn.Softmax()\n",
    "\n",
    "    def forward(self, x, hidden):   # -> input x:    (batch_size, seq_length, num_features)\n",
    "        x, hidden = self.lstm(x, hidden) # -> LSTM out:   (batch_size, seq_length, hidden_size)\n",
    "        x = x[:,-1]  # -> Taking last output from each sequence.\n",
    "        x = self.linear(x)\n",
    "        return x, hidden\n"
   ]
  },
  {
   "cell_type": "code",
   "execution_count": 323,
   "metadata": {
    "pycharm": {
     "name": "#%%\n"
    }
   },
   "outputs": [
    {
     "name": "stdout",
     "output_type": "stream",
     "text": [
      "epoch 1\n",
      "Training Loss: 2.4881 Acc: 0.2836\n",
      "Validation Loss: 2.0721 Acc: 0.4029\n",
      "epoch 2\n",
      "Training Loss: 1.8975 Acc: 0.4327\n",
      "Validation Loss: 1.7720 Acc: 0.4888\n",
      "epoch 3\n",
      "Training Loss: 1.6561 Acc: 0.4980\n",
      "Validation Loss: 1.5837 Acc: 0.5387\n",
      "epoch 4\n",
      "Training Loss: 1.4966 Acc: 0.5422\n",
      "Validation Loss: 1.4876 Acc: 0.5739\n",
      "epoch 5\n",
      "Training Loss: 1.3772 Acc: 0.5741\n",
      "Validation Loss: 1.4207 Acc: 0.5808\n",
      "epoch 6\n",
      "Training Loss: 1.2803 Acc: 0.6025\n",
      "Validation Loss: 1.4107 Acc: 0.5928\n",
      "epoch 7\n",
      "Training Loss: 1.1852 Acc: 0.6271\n",
      "Validation Loss: 1.3935 Acc: 0.5842\n",
      "epoch 8\n",
      "Training Loss: 1.0888 Acc: 0.6556\n",
      "Validation Loss: 1.3744 Acc: 0.5945\n",
      "epoch 9\n",
      "Training Loss: 0.9841 Acc: 0.6882\n",
      "Validation Loss: 1.4240 Acc: 0.5799\n",
      "epoch 10\n",
      "Training Loss: 0.8702 Acc: 0.7243\n",
      "Validation Loss: 1.4235 Acc: 0.5911\n",
      "epoch 11\n",
      "Training Loss: 0.7466 Acc: 0.7674\n",
      "Validation Loss: 1.4866 Acc: 0.5859\n",
      "epoch 12\n",
      "Training Loss: 0.6184 Acc: 0.8126\n",
      "Validation Loss: 1.5672 Acc: 0.5799\n",
      "epoch 13\n",
      "Training Loss: 0.4905 Acc: 0.8570\n",
      "Validation Loss: 1.6798 Acc: 0.5610\n",
      "epoch 14\n",
      "Training Loss: 0.3672 Acc: 0.9000\n",
      "Validation Loss: 1.7602 Acc: 0.5730\n",
      "epoch 15\n",
      "Training Loss: 0.2618 Acc: 0.9356\n",
      "Validation Loss: 1.8492 Acc: 0.5662\n"
     ]
    },
    {
     "name": "stderr",
     "output_type": "stream",
     "text": [
      "<ipython-input-323-c860b3f16c7a>:103: UserWarning: FixedFormatter should only be used together with FixedLocator\n",
      "  ax.set_xticklabels(np.arange(len(train_acc)))\n",
      "<ipython-input-323-c860b3f16c7a>:114: UserWarning: FixedFormatter should only be used together with FixedLocator\n",
      "  ax.set_xticklabels(np.arange(len(train_loss)))\n"
     ]
    },
    {
     "data": {
      "image/png": "[encoded data removed]",
      "text/plain": [
       "<Figure size 432x288 with 1 Axes>"
      ]
     },
     "metadata": {
      "needs_background": "light"
     },
     "output_type": "display_data"
    },
    {
     "data": {
      "image/png": "[encoded data removed]",
      "text/plain": [
       "<Figure size 432x288 with 1 Axes>"
      ]
     },
     "metadata": {
      "needs_background": "light"
     },
     "output_type": "display_data"
    }
   ],
   "source": [
    "model = LSTMPredictor(n_hidden=512, n_layers=2)\n",
    "model = model.to(device)\n",
    "train_size = 73000\n",
    "val_size = 1164\n",
    "adam = torch.optim.Adam(model.parameters(), lr=0.001)\n",
    "cross_entropy = nn.CrossEntropyLoss()\n",
    "\n",
    "\n",
    "# Will automatically restore weights from epoch with best validation accuracy\n",
    "def train_model(model, loss_f, optimizer, num_epochs):\n",
    "    best_model_weights = copy.deepcopy(model.state_dict())\n",
    "    best_model_acc = 0.0\n",
    "    train_loss = np.zeros(num_epochs)\n",
    "    train_acc = np.zeros(num_epochs)\n",
    "    val_loss = np.zeros(num_epochs)\n",
    "    val_acc = np.zeros(num_epochs)\n",
    "    for epoch in range(num_epochs):\n",
    "        print(\"epoch\",epoch+1)\n",
    "        running_loss = 0.0\n",
    "        running_corrects = 0\n",
    "        torch.set_grad_enabled(True)\n",
    "        best_acc = 0\n",
    "        model.train()\n",
    "        for batch_idx, batch in enumerate(train):\n",
    "            model.zero_grad()\n",
    "            #print(batch.shape)\n",
    "            inputs, labels = batch\n",
    "            inputs, labels = inputs.to(device), labels.to(device)\n",
    "\n",
    "            #Forward\n",
    "            out, hidden = model(inputs, None )\n",
    "            #print(out)\n",
    "            _, preds = torch.max(out, 1)\n",
    "            #print(preds)\n",
    "            #print(type(preds[0]))\n",
    "\n",
    "            #Compute objective function\n",
    "            #print(out)\n",
    "            #print(labels)\n",
    "            loss = loss_f(out, labels)\n",
    "\n",
    "            #Clean the gradients\n",
    "            model.zero_grad()\n",
    "\n",
    "            #Accumulate partial deriviates wrt parameters\n",
    "            loss.backward()\n",
    "\n",
    "            #Step in the opposite direction og the gradient wrt optimizer\n",
    "            optimizer.step()\n",
    "\n",
    "            #stats\n",
    "            running_loss += loss.item() * inputs.size(0)\n",
    "            #print(preds)\n",
    "            #print(labels.data)\n",
    "            running_corrects += torch.sum(preds == labels.data)\n",
    "\n",
    "        train_loss[epoch] = running_loss / train_size\n",
    "        train_acc[epoch] = running_corrects.double() / train_size\n",
    "        print('Training Loss: {:.4f} Acc: {:.4f}'.format(train_loss[epoch], train_acc[epoch]))\n",
    "        running_loss = 0.0\n",
    "        running_corrects = 0\n",
    "        for batch_idx, batch in enumerate(val):\n",
    "            model.eval()\n",
    "            inputs, labels = batch\n",
    "\n",
    "            #Move to gpu if availible\n",
    "            inputs, labels = inputs.to(device), labels.to(device)\n",
    "            #Forward\n",
    "            with(torch.no_grad()):\n",
    "                out, hidden = model(inputs, None)\n",
    "            _, preds = torch.max(out,1)\n",
    "\n",
    "            #Compute objective function\n",
    "            loss = loss_f(out, labels)\n",
    "\n",
    "\n",
    "            running_loss += loss.item() * inputs.size(0)\n",
    "            running_corrects += torch.sum(preds == labels.data)\n",
    "\n",
    "\n",
    "        val_loss[epoch] = running_loss / val_size\n",
    "        val_acc[epoch] = running_corrects.double() / val_size\n",
    "\n",
    "        print('Validation Loss: {:.4f} Acc: {:.4f}'.format(val_loss[epoch], val_acc[epoch]))\n",
    "\n",
    "        # deep copy the model\n",
    "        if (val_acc[epoch] > best_acc):\n",
    "            best_acc = val_acc[epoch]\n",
    "            best_model_wts = copy.deepcopy(model.state_dict())\n",
    "\n",
    "    model.load_state_dict(best_model_wts)\n",
    "    return model, train_acc, train_loss, val_acc, val_loss\n",
    "\n",
    "\n",
    "\n",
    "\n",
    "model, train_acc, train_loss, val_acc, val_loss = train_model(model, cross_entropy, adam, 15)\n",
    "torch.save(model, \"model\")\n",
    "#Plotting the data\n",
    "fig, ax = plt.subplots()\n",
    "ax.plot(train_acc, label=\"Training\")\n",
    "ax.plot(val_acc, label=\"Validation\")\n",
    "ax.set_xticklabels(np.arange(len(train_acc)))\n",
    "plt.xlabel(\"Epoch\")\n",
    "plt.ylabel(\"Accuracy\")\n",
    "plt.title(\"Training-validation accuracy\")\n",
    "plt.legend()\n",
    "plt.show()\n",
    "\n",
    "\n",
    "fig, ax = plt.subplots()\n",
    "ax.plot(train_loss, label=\"Training\")\n",
    "ax.plot(val_loss, label=\"Validation\")\n",
    "ax.set_xticklabels(np.arange(len(train_loss)))\n",
    "plt.xlabel(\"Epoch-1\")\n",
    "plt.ylabel(\"Loss\")\n",
    "plt.title(\"Training-validation loss\")\n",
    "plt.legend()\n",
    "plt.show()"
   ]
  },
  {
   "cell_type": "code",
   "execution_count": 328,
   "metadata": {
    "pycharm": {
     "name": "#%%\n"
    }
   },
   "outputs": [
    {
     "name": "stdout",
     "output_type": "stream",
     "text": [
      "\n",
      "ld being, and in the power of the whole, and the lotions of the elements. but the lotisman of the universe is either a common pant in universal nature\n",
      "\n",
      "onging in the universe has the same that you have ever what manner of sense, that the life of every man is one for all more man have in the power of t\n",
      "\n",
      " by nature your soul should for the parts and seem in pleasures and the lige and have a good and impressions which is not this thought be wall or a go\n",
      "\n",
      "rs, and intelligence. the whole, and the liget mast in one good to our prasen to mankind, but within is magnariot, and the second consider what manner\n",
      "\n",
      "ent moment to the clast consider the pain from the matter of his dusting in the simplicity of serion, and the lige as all his been do what is make a c\n",
      "\n",
      "se that which no man can be recking in of their own soul. think of the universe is either a common intelligence. for itsees, so troubles no longer in \n",
      "\n",
      " the body, and the light spoke the courts what manner of sense, that the least is a thing and man be of sense, then, them withds not the life of the b\n",
      "\n",
      "tions if you recessant of their opinions, and tents of the simplicity of serion, and the light spoke the more should act that beast, nor do no good to\n",
      "\n",
      "y death has been discern no vant is the light spoke the courts what manner of sense, that the least is a thing and man be of sense, then, them withds \n",
      "\n",
      "hing conceived the offected of all things is not in all that is before must not be me in the universe is either a common pant in universal nature has \n"
     ]
    }
   ],
   "source": [
    "model.eval()\n",
    "model.zero_grad()\n",
    "def Probabilistic_selection(out):\n",
    "    out = F.F.softmax(out, 1)\n",
    "    selection = np.random.uniform()\n",
    "    rolling_sum = 0\n",
    "    index = 0\n",
    "    while True:\n",
    "            rolling_sum += out[0][index]\n",
    "            if rolling_sum > selection:\n",
    "                break\n",
    "            index += 1\n",
    "    preds =[index]\n",
    "    return preds\n",
    "\n",
    "for j in range(10):\n",
    "    seed = \"\"\n",
    "    answer = \"\"\n",
    "\n",
    "    #Generates a random seed of 3 letters\n",
    "    for k in range(3):\n",
    "        seed += chr(np.random.randint(97, 122))\n",
    "    x = torch.zeros((len(seed), len(chars)), dtype=torch.float32)\n",
    "    for i in range(len(seed)):\n",
    "        x[i, char_indices[seed[i]]] = 1\n",
    "\n",
    "    hidden = None\n",
    "    x = x.view(-1, len(x), len(x[0]))\n",
    "    x = x.to(device)\n",
    "    for i in range(150):\n",
    "\n",
    "        out, hidden = model(x, hidden)\n",
    "        #preds = Probabilistic_selection(out) #Selects letters probabilistically from a softmax activation\n",
    "        _, preds = torch.max(out,1) #Selects letters deterministically\n",
    "        char = indices_char[int(preds[0])]\n",
    "        answer += char\n",
    "        x = torch.zeros((1,1,len(chars)), dtype=torch.float32, device=device)\n",
    "        x[0,0,int(preds[0])] = 1\n",
    "\n",
    "    print(\"\\n\" + answer)\n",
    "\n"
   ]
  }
 ],
 "metadata": {
  "kernelspec": {
   "display_name": "Python 3",
   "language": "python",
   "name": "python3"
  },
  "language_info": {
   "codemirror_mode": {
    "name": "ipython",
    "version": 3
   },
   "file_extension": ".py",
   "mimetype": "text/x-python",
   "name": "python",
   "nbconvert_exporter": "python",
   "pygments_lexer": "ipython3",
   "version": "3.8.6"
  }
 },
 "nbformat": 4,
 "nbformat_minor": 1
}
