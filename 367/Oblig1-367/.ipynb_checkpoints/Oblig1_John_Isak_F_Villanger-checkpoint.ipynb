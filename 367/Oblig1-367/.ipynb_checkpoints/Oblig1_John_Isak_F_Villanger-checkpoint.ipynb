{
 "cells": [
  {
   "cell_type": "code",
   "execution_count": 261,
   "metadata": {
    "pycharm": {
     "name": "#%%\n"
    }
   },
   "outputs": [],
   "source": [
    "import numpy as np\n",
    "import random\n",
    "\n",
    "class Literal:\n",
    "    def __init__(self, value, name):\n",
    "        self.value = value\n",
    "        self.name = name\n",
    "        self.in_target = False\n",
    "        self.in_hypothesis = True\n",
    "        self.negation = None\n",
    "\n",
    "    def __str__(self):\n",
    "        return str(self.name) + \"  \" + str(self.value)\n",
    "\n",
    "    def __repr__(self):\n",
    "        return str(self.name) + \" \" + str(self.value)+\", \""
   ]
  },
  {
   "cell_type": "code",
   "execution_count": 262,
   "metadata": {
    "pycharm": {
     "name": "#%%\n"
    }
   },
   "outputs": [],
   "source": [
    "def generate_literals(n):\n",
    "    literals = np.empty(2*n, dtype=Literal)\n",
    "    for i in range(n):\n",
    "        literals[2*i] = Literal(True, i)\n",
    "        literals[2*i+1] = Literal(False, i)\n",
    "        literals[2*i].negation = literals[2*i+1]\n",
    "        literals[2*i+1].negation = literals[2*i]\n",
    "        #print(literals[2*i])\n",
    "        #print(literals[2*i+1])\n",
    "    return literals"
   ]
  },
  {
   "cell_type": "code",
   "execution_count": 263,
   "metadata": {
    "pycharm": {
     "name": "#%%\n"
    }
   },
   "outputs": [],
   "source": [
    "def generate_target(length, literals, distribution, noise, n):\n",
    "    target = np.empty(length, dtype=Literal)\n",
    "    for i in range(length):\n",
    "        contradicting_literal = True\n",
    "        while contradicting_literal:\n",
    "            index = random.randint(0, n-1)\n",
    "            value = distribution[index] + random.randint(-noise, noise)\n",
    "            if not literals[2*index].inTarget and not literals[2*index+1].inTarget:\n",
    "                if value < 50:\n",
    "                    target[i] = literals[2*index+1]\n",
    "                    target[i].in_target = True\n",
    "                    contradicting_literal = False\n",
    "                else:\n",
    "                    target[i] = literals[2*index]\n",
    "                    target[i].in_target = True\n",
    "                    contradicting_literal = False\n",
    "    return target"
   ]
  },
  {
   "cell_type": "code",
   "execution_count": 264,
   "metadata": {
    "pycharm": {
     "name": "#%%\n"
    }
   },
   "outputs": [],
   "source": [
    "def generate_example(literals, distribution, noise,n):\n",
    "    example = np.empty(n, dtype=Literal)\n",
    "    for i in range (0, n):\n",
    "        value = distribution[i] + random.randint(-noise, noise)\n",
    "        if value < 50:\n",
    "            example[i] = literals[2*i+1]\n",
    "        else:\n",
    "            example[i] = literals[2*i]\n",
    "    return example"
   ]
  },
  {
   "cell_type": "code",
   "execution_count": 265,
   "metadata": {
    "pycharm": {
     "name": "#%%\n"
    }
   },
   "outputs": [],
   "source": [
    "def generate_distribution(size):\n",
    "    distribution = np.random.binomial(100, 0.5, size)\n",
    "    #distribution = np.random.normal(50, 4, size)\n",
    "    return distribution"
   ]
  },
  {
   "cell_type": "code",
   "execution_count": 266,
   "metadata": {
    "pycharm": {
     "name": "#%%\n"
    }
   },
   "outputs": [],
   "source": [
    "def positive_example(example):\n",
    "    pos_example = True\n",
    "    for i in range(example.size):\n",
    "        if example[i].negation.inTarget:\n",
    "            pos_example = False\n",
    "    return pos_example"
   ]
  },
  {
   "cell_type": "code",
   "execution_count": 267,
   "metadata": {
    "pycharm": {
     "name": "#%%\n"
    }
   },
   "outputs": [],
   "source": [
    "def update_hypothesis(example):\n",
    "    if positive_example(example):\n",
    "        for i in range(example.size):\n",
    "            example[i].negation.in_hypothesis = False"
   ]
  },
  {
   "cell_type": "code",
   "execution_count": 268,
   "metadata": {
    "pycharm": {
     "name": "#%%\n"
    }
   },
   "outputs": [],
   "source": [
    "def print_hypothesis(literals):\n",
    "    print(\"Hypothesis: \")\n",
    "    for literal in literals:\n",
    "        if literal.inHypothesis:\n",
    "            print(literal)"
   ]
  },
  {
   "cell_type": "code",
   "execution_count": 269,
   "metadata": {
    "pycharm": {
     "name": "#%%\n"
    }
   },
   "outputs": [],
   "source": [
    "#Returns fraction of correct guesses by hypothesis\n",
    "def estimate_error(n_error_estimate, literals, distribution, noise, n):\n",
    "    correct_guesses = 0\n",
    "    for i in range(n_error_estimate):\n",
    "        example = generate_example(literals, distribution, noise, n)\n",
    "        if positive_example(example):\n",
    "            correct_guess = True\n",
    "            for j in range(example.size):\n",
    "                if example[j].inTarget and example[j].negation.inHypothesis:\n",
    "                    correct_guess = False\n",
    "            if correct_guess:\n",
    "                correct_guesses += 1\n",
    "        else:\n",
    "            correct_guesses += 1\n",
    "    return correct_guesses/n_error_estimate"
   ]
  },
  {
   "cell_type": "code",
   "execution_count": 2,
   "metadata": {
    "pycharm": {
     "name": "#%%\n"
    }
   },
   "outputs": [],
   "source": [
    "def main():\n",
    "    n = int(input(\"Enter number of PL-atoms\"))\n",
    "    literals = generate_literals(n)\n",
    "    noise = 10\n",
    "    distribution = generate_distribution(n)\n",
    "    target = generate_target(10, literals,distribution, noise, n)\n",
    "    epsilon = float(input(\"Enter Epsilon\"))\n",
    "    delta = float(input(\"Enter Delta\"))\n",
    "    n_error_estimate = int((20/epsilon)**2)\n",
    "\n",
    "    print(distribution)\n",
    "    print(\"Target: \")\n",
    "    print(target)\n",
    "\n",
    "    #Required size to have less than epsilon error with 1-delta confidence\n",
    "    req_size = int(((2*n)/epsilon*(np.log(2*n)+np.log(1/delta))))\n",
    "    print(\"Required Size: \", req_size)\n",
    "\n",
    "    for i in range (req_size):\n",
    "        example = generate_example(literals, distribution, noise, n)\n",
    "        update_hypothesis(example)\n",
    "\n",
    "    print_hypothesis(literals)\n",
    "    accuracy = estimate_error(n_error_estimate, literals, distribution, noise, n)\n",
    "    print(\"Estimated Accuracy \", accuracy)"
   ]
  }
 ],
 "metadata": {
  "kernelspec": {
   "display_name": "Python 3",
   "language": "python",
   "name": "python3"
  },
  "language_info": {
   "codemirror_mode": {
    "name": "ipython",
    "version": 3
   },
   "file_extension": ".py",
   "mimetype": "text/x-python",
   "name": "python",
   "nbconvert_exporter": "python",
   "pygments_lexer": "ipython3",
   "version": "3.8.5"
  }
 },
 "nbformat": 4,
 "nbformat_minor": 4
}
