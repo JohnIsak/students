{
 "cells": [
  {
   "cell_type": "markdown",
   "metadata": {
    "collapsed": true,
    "pycharm": {
     "name": "#%% md\n"
    }
   },
   "source": [
    "| T         | $\\lambda$ |\n",
    "|-----------|-----------|\n",
    "| $\\lambda$ | 0         |\n",
    "| --------- | --------- |\n",
    "| 0         | 0         |\n",
    "| 1         | 1         |\n",
    "\n",
    "First we initiate a minimal automaton and make queries for $\\lambda$, 0 and 1.\n",
    "after making the queries we see that the table is not closed. So we move 1 up to S and add the extensions 1.A in S.a.\n",
    "We make queries for \"10\" and \"11\"\n",
    "\n",
    "\n",
    "| T         | $\\lambda$ |\n",
    "|-----------|-----------|\n",
    "| $\\lambda$ | 0         |\n",
    "| 1         | 1         |\n",
    "| --------- | --------- |\n",
    "| 0         | 0         |\n",
    "| 10        | 0         |\n",
    "| 11        | 1         |\n",
    "\n",
    "![alt text](Automata2.png)\n",
    "\n",
    "The automaton does still not recognize the target language. So we provide a counter-example; \"100\".\n",
    "We add 10 to S to ensure that S is prefix-closed. Then we add \"101\" \"1001\" and \"1000\" in S.A to make sure we have all the extensions.\n",
    "\n",
    "    \n",
    "| T         | $\\lambda$ |\n",
    "|-----------|-----------|\n",
    "| $\\lambda$ | 0         |\n",
    "| 1         | 1         |\n",
    "| 10        | 0         |\n",
    "| 100       | 1         |\n",
    "| --------- | --------- |\n",
    "| 0         | 0         |\n",
    "| 11        | 1         |\n",
    "| 101       | 1         |\n",
    "| 1001      | 1         |\n",
    "| 1000      | 0         |\n",
    "\n",
    "We now check the consistency criteria and see that it is not consistent.  $row(\\lambda) = row(10)$ and $row(0) \\neq row(100)$\n",
    "So we have to add another suffix; 0. And make queries for S.A in column 0, Column 0 can be filled out in S from\n",
    "looking at the extension for for each s in S.\n",
    "\n",
    "| T         | $\\lambda$ | 0         |\n",
    "|-----------|-----------|-----------|\n",
    "| $\\lambda$ | 0         | 0         |\n",
    "| 1         | 1         | 0         |\n",
    "| 10        | 0         | 1         |\n",
    "| 100       | 1         | 0         |\n",
    "| --------- | --------- | --------- |\n",
    "| 0         | 0         | 0         |\n",
    "| 11        | 1         | 0         |\n",
    "| 101       | 1         | 0         |\n",
    "| 1001      | 1         | 0         |\n",
    "| 1000      | 0         | 1         |\n",
    "\n",
    "After this, we generate the new automata based on the table\n",
    "\n",
    "![alt text](Automata3.png)\n"
   ]
  },
  {
   "cell_type": "code",
   "execution_count": 1,
   "metadata": {
    "pycharm": {
     "name": "#%%\n"
    }
   },
   "outputs": [
    {
     "name": "stdout",
     "output_type": "stream",
     "text": [
      "qwe\n"
     ]
    }
   ],
   "source": [
    "print(\"qwe\")"
   ]
  }
 ],
 "metadata": {
  "kernelspec": {
   "display_name": "Python 3",
   "language": "python",
   "name": "python3"
  },
  "language_info": {
   "codemirror_mode": {
    "name": "ipython",
    "version": 3
   },
   "file_extension": ".py",
   "mimetype": "text/x-python",
   "name": "python",
   "nbconvert_exporter": "python",
   "pygments_lexer": "ipython3",
   "version": "3.8.6"
  }
 },
 "nbformat": 4,
 "nbformat_minor": 1
}