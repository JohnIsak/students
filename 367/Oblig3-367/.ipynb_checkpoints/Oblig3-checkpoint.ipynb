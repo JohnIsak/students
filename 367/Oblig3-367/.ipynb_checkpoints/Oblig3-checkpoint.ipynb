{
 "cells": [
  {
   "cell_type": "markdown",
   "metadata": {
    "collapsed": true,
    "pycharm": {
     "name": "#%% md\n"
    }
   },
   "source": [
    "| T         | $\\lambda$ |\n",
    "|-----------|-----------|\n",
    "| $\\lambda$ | 0         |\n",
    "| --------- | --------- |\n",
    "| 1         | 0         |\n",
    "| 0         | 0         |\n",
    "\n",
    "![alt text](Automata1.png)\n",
    "\n",
    "we do some random shit and then we make another table\n",
    "\n",
    "| T         | $\\lambda$ |\n",
    "|-----------|-----------|\n",
    "| $\\lambda$ | 0         |\n",
    "| 1         | 1         |\n",
    "| --------- | --------- |\n",
    "| 0         | 0         |\n",
    "| 10        | 0         |\n",
    "| 11        | 1         |\n",
    "\n",
    "![alt text](Automata2.png)\n",
    "\n",
    "Then we do more random shit and make even one more table:\n",
    "\n",
    "| T         | $\\lambda$ |\n",
    "|-----------|-----------|\n",
    "| $\\lambda$ | 0         |\n",
    "| 1         | 1         |\n",
    "| 10        | 0         |\n",
    "| 100       | 1         |\n",
    "| --------- | --------- |\n",
    "| 0         | 0         |\n",
    "| 11        | 0         |\n",
    "| 101       | 1         |\n",
    "| 1001      | 1         |\n",
    "| 1000      | 0         |\n",
    "\n",
    "Not consistent so we have to add another column:\n",
    "\n",
    "| T         | $\\lambda$ | 0         |\n",
    "|-----------|-----------|-----------|\n",
    "| $\\lambda$ | 0         | 0         |\n",
    "| 1         | 1         | 0         |\n",
    "| 10        | 0         | 1         |\n",
    "| 100       | 1         | 0         |\n",
    "| --------- | --------- | --------- |\n",
    "| 0         | 0         | 0         |\n",
    "| 11        | 1         | 0         |\n",
    "| 101       | 1         | 0         |\n",
    "| 1001      | 1         | 0         |\n",
    "| 1000      | 0         | 1         |\n",
    "\n",
    "![alt text](Automata3.png)\n"
   ]
  },
  {
   "cell_type": "code",
   "execution_count": 1,
   "metadata": {
    "pycharm": {
     "name": "#%%\n"
    }
   },
   "outputs": [
    {
     "name": "stdout",
     "output_type": "stream",
     "text": [
      "qwe\n"
     ]
    }
   ],
   "source": [
    "print(\"qwe\")"
   ]
  }
 ],
 "metadata": {
  "kernelspec": {
   "display_name": "Python 3",
   "language": "python",
   "name": "python3"
  },
  "language_info": {
   "codemirror_mode": {
    "name": "ipython",
    "version": 3
   },
   "file_extension": ".py",
   "mimetype": "text/x-python",
   "name": "python",
   "nbconvert_exporter": "python",
   "pygments_lexer": "ipython3",
   "version": "3.8.6"
  }
 },
 "nbformat": 4,
 "nbformat_minor": 1
}
